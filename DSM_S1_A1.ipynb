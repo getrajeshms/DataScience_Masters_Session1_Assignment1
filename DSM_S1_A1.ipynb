{
 "cells": [
  {
   "cell_type": "code",
   "execution_count": 3,
   "metadata": {},
   "outputs": [
    {
     "name": "stdout",
     "output_type": "stream",
     "text": [
      "Demo sample size estimator\n",
      "Please enter the count for repeating this estimator :2\n",
      "Enter population SD : 12\n",
      "Enter error rate : 0.5\n",
      "Minimum Sample Size required is 2212\n",
      "Enter population SD : 10\n",
      "Enter error rate : 0.06\n",
      "Minimum Sample Size required is 106711\n",
      "End of demo sample size estimator\n"
     ]
    }
   ],
   "source": [
    "# General thumb rule for calculating sample size for a clinical trial study\n",
    "print(\"Demo sample size estimator\")\n",
    "# counter initiation for repeating this calculation\n",
    "i=0\n",
    "count=int(input(\"Please enter the count for repeating this estimator :\"))\n",
    "for i in range(count):\n",
    "# Specification of population standarde deviation    \n",
    "    SD=float(input(\"Enter population SD : \"))\n",
    "# Specification of error rate \n",
    "    E=float(input(\"Enter error rate : \"))\n",
    "# thumb rule formula to calculate sample size based on SD and error rate\n",
    "    n=(1.96**2)*(SD**2)/E**2\n",
    "    print(\"Minimum Sample Size required is\",int(n))\n",
    "    i=i+1;\n",
    "else:\n",
    "    print(\"End of demo sample size estimator\")\n"
   ]
  },
  {
   "cell_type": "code",
   "execution_count": null,
   "metadata": {},
   "outputs": [],
   "source": []
  }
 ],
 "metadata": {
  "kernelspec": {
   "display_name": "Python 3",
   "language": "python",
   "name": "python3"
  },
  "language_info": {
   "codemirror_mode": {
    "name": "ipython",
    "version": 3
   },
   "file_extension": ".py",
   "mimetype": "text/x-python",
   "name": "python",
   "nbconvert_exporter": "python",
   "pygments_lexer": "ipython3",
   "version": "3.6.4"
  }
 },
 "nbformat": 4,
 "nbformat_minor": 2
}
